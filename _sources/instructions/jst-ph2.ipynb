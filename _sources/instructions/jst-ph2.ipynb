{
 "cells": [
  {
   "cell_type": "markdown",
   "id": "5752bac5-00fd-4e5b-87cc-263e596e3600",
   "metadata": {},
   "source": [
    "# Crimping JST ph 2.0 connectors"
   ]
  },
  {
   "cell_type": "markdown",
   "id": "2f896ed5-6284-492a-af18-a4513cb9fa48",
   "metadata": {},
   "source": [
    "* Tool: Pad-11 crimper\n",
    "* Steps:\n",
    "    * Get single connector (no tabs)\n",
    "    * Hold crimper in left hand, size markings to the right\n",
    "    * Insert connector in 1.6 opening, strain relief tabs flush with crimper and facing down\n",
    "    * Remove insulation so that the wire part just covers the wiring tabs (but does not enter the connector or stick out into the strain releave part; approx 2mm)\n",
    "    * Insert wire into connector and crimp\n",
    "    * Remove connector, verify that wire holds tightly\n",
    "    * Slightly \"pre-crimp\" strain releave tabs with pliers so they are about parallel\n",
    "    * Reinsert connector into 1.6 opening of crimper, strain relief tabs in crimping section and facing down (wire to the left)\n",
    "      * Note: use 1.6 opening, otherwise the connector won't fit into the ph 2.0 housing\n",
    "    * Crimp\n",
    "    * Insert connector into ph 2.0 housing so that the top small \"hole\" lienes up with the small hole of the housing. The connector should \"snap\" in easily\n",
    "  "
   ]
  },
  {
   "cell_type": "code",
   "execution_count": null,
   "id": "1c34d621-7a09-49f6-99b2-d907b3e58dff",
   "metadata": {},
   "outputs": [],
   "source": []
  }
 ],
 "metadata": {
  "kernelspec": {
   "display_name": "Python 3 (ipykernel)",
   "language": "python",
   "name": "python3"
  },
  "language_info": {
   "codemirror_mode": {
    "name": "ipython",
    "version": 3
   },
   "file_extension": ".py",
   "mimetype": "text/x-python",
   "name": "python",
   "nbconvert_exporter": "python",
   "pygments_lexer": "ipython3",
   "version": "3.11.5"
  }
 },
 "nbformat": 4,
 "nbformat_minor": 5
}
